{
 "cells": [
  {
   "cell_type": "markdown",
   "metadata": {},
   "source": [
    "# ADA final exam (Fall 2021)\n",
    "\n",
    "This exam consists of 2 parts.\n",
    "The first part has 3 tasks.\n",
    "The second part has 2 tasks.\n",
    "The two parts are completely independent of each other.\n",
    "\n",
    "## Important: The data used for this exam **is not entirely real.** A great deal of it has been artificially created or modified. Conclusions drawn from this data have no real link to reality!"
   ]
  },
  {
   "cell_type": "code",
   "execution_count": 1,
   "metadata": {
    "pycharm": {
     "name": "#%%\n"
    }
   },
   "outputs": [
    {
     "name": "stderr",
     "output_type": "stream",
     "text": [
      "<frozen importlib._bootstrap>:219: RuntimeWarning: scipy._lib.messagestream.MessageStream size changed, may indicate binary incompatibility. Expected 56 from C header, got 64 from PyObject\n"
     ]
    }
   ],
   "source": [
    "%matplotlib inline\n",
    "\n",
    "# General\n",
    "import pandas as pd\n",
    "import numpy as np\n",
    "\n",
    "# For plotting\n",
    "import matplotlib.pyplot as plt\n",
    "import seaborn as sns\n",
    "\n",
    "# For graph-related stuff\n",
    "import networkx as nx\n",
    "\n",
    "# For regression analyses and statistical tests\n",
    "import scipy.stats as stats\n",
    "import statsmodels.stats\n",
    "import statsmodels.formula.api as smf\n",
    "\n",
    "# For classification\n",
    "from sklearn import linear_model as lm\n",
    "from sklearn.model_selection import train_test_split\n",
    "from sklearn.metrics import accuracy_score"
   ]
  },
  {
   "cell_type": "markdown",
   "metadata": {},
   "source": [
    "\n",
    "## Part 1 — Faculty hiring network\n",
    "\n",
    "For the first part of the exam, you will analyze data from a faculty hiring network. After completing their Ph.D., researchers who want to pursue an academic career must compete for relatively few permanent positions (as “faculty”, i.e., professors) in a highly competitive job market. You will analyze a directed graph that captures the dynamics of this hiring process in the United States:\n",
    "\n",
    "\n",
    "- Each node $u$ in this graph represents a different American university.\n",
    "- For each university, we also provide a score that captures how highly  this university is ranked (e.g., Stanford University is ranked more highly than the University of Alabama). The higher the score, the more highly ranked the university.\n",
    "- Each directed edge $(u,v)$ in this graph represents a hiring decision where someone who did their Ph.D. at university $u$ subsequently was hired by university $v$. Each edge is also associated with a gender label, which specifies if the person hired was a man (M) or a woman (F).\n",
    "- Note that, when multiple researchers were trained at a given university $u$ and subsequently hired by university $v$, there will be multiple edges pointing from $u$ to $v$, each of which corresponds to a different person.\n",
    "\n",
    "\n",
    "## Files (in the `./data/part-1/` folder)\n",
    "\n",
    "- `nodelist.tsv` a tab-separated file containing the nodes of the graph. Recall that each node represents a different university. The file has these columns:\n",
    "    - `u` — the node index;\n",
    "    - `score` — the rank of the university (the higher the better);\n",
    "    - `name` — the name of the university.\n",
    "\n",
    "- `edgelist.tsv` a tab-separated file containing the edges of the graph. Recall that each edge represents a hiring decision. The file has columns:\n",
    "    - `u` — the source university, where the person got their Ph.D.;\n",
    "    - `v` — the target university, where the person was hired;\n",
    "    - `gender` — the gender of the person.\n",
    "\n",
    "\n",
    "### Task 1 — (20 points)\n",
    "\n",
    "1. Using the above files, create the directed graph representing the hiring network using `networkx`.\n",
    "Each node should contain the attributes `score` and `name`, and each edge should contain the attribute `gender`.\n",
    "Print the total numbers of nodes and edges in the graph.\n",
    "\n",
    "2. Create a plot that allows you to easily visualize **(a)** what fraction of all researchers in the graph are hired by the $N$ universities that hire the most; and  **(b)** what fraction of all researchers in the graph are trained by the $N$ universities whose students get hired the most.\n",
    "Here, $N$ could be any number between 1 and the number of universities.\n",
    "\n",
    "3. **/Multiple choice:/** Which centrality metric(s) is/are illustrated in the plot you made for the previous subtask? Select all that apply from the list below and **justify your answer.**\n",
    "    1. Betweenness centrality\n",
    "    2. In-degree centrality\n",
    "    3. Out-degree centrality\n",
    "    4. PageRank centrality\n",
    "\n",
    "4. **/True or false:/** Search engines such as Google have historically used PageRank centrality as a signal to determine the importance of pages on the Web. Is the following statement **true** or **false**? Justify. **\"In the faculty hiring network, PageRank centrality is positively correlated with university score, that is, universities with higher scores are more likely to also have higher PageRank centrality.\"**\n"
   ]
  },
  {
   "cell_type": "code",
   "execution_count": 89,
   "metadata": {
    "pycharm": {
     "name": "#%%\n"
    }
   },
   "outputs": [
    {
     "name": "stdout",
     "output_type": "stream",
     "text": [
      "MultiDiGraph with 205 nodes and 4388 edges\n"
     ]
    }
   ],
   "source": [
    "# 1. Create a Multi Directional Graph\n",
    "PATH = \"./data/part-1/\"\n",
    "\n",
    "edges = pd.read_csv(PATH+'edgelist.tsv', sep='\\t') # save edges infos in pandas\n",
    "nodes = pd.read_csv(PATH+'nodelist.tsv', sep='\\t') # save nodes infos in pandas\n",
    "G = nx.from_pandas_edgelist(edges, 'u', 'v', edge_attr='gender', create_using= nx.MultiDiGraph()) # graph creation from pandas and add gender attribute to edge\n",
    "nx.set_node_attributes(G, nodes['name'].to_dict(), 'name' ) # add name attribute to node\n",
    "nx.set_node_attributes(G, nodes['score'].to_dict(), 'score' ) # add score attribute to node\n",
    "\n",
    "print(nx.info(G))"
   ]
  },
  {
   "cell_type": "code",
   "execution_count": 85,
   "metadata": {},
   "outputs": [
    {
     "data": {
      "image/png": "[encoded data removed]",
      "text/plain": [
       "<Figure size 432x288 with 1 Axes>"
      ]
     },
     "metadata": {
      "needs_background": "light"
     },
     "output_type": "display_data"
    }
   ],
   "source": [
    "# 2. PLOTS\n",
    "# a) What fraction of all researchers in the graph are hired by the N universities that hire the most\n",
    "\n",
    "indegree=[] #what's before the node\n",
    "outdegree=[] #what's after the node\n",
    "\n",
    "for node in G.nodes:\n",
    "    indegree.append(len(list(G.predecessors(node))))\n",
    "    outdegree.append(len(list(G.successors(node))))\n",
    "\n",
    "indegree=np.array(indegree)\n",
    "outdegree=np.array(outdegree)\n",
    "\n",
    "#compute the cumulative sum of indegree and outdegree\n",
    "indegree=np.array(sorted(indegree/sum(indegree), reverse=True)).cumsum()\n",
    "outdegree=np.array(sorted(outdegree/sum(outdegree), reverse=True)).cumsum()\n",
    "\n",
    "#create plots\n",
    "plt.plot(indegree, label=\"% Ph.D. students hired\\nby the top $N$ universities\")\n",
    "plt.plot(outdegree, label=\"% Ph.D. students trained\\nby the top $N$ universities\")\n",
    "plt.xlabel(\"$N$\")\n",
    "plt.legend()\n",
    "plt.show();\n",
    "\n"
   ]
  },
  {
   "cell_type": "markdown",
   "metadata": {},
   "source": [
    "3. **/Multiple choice:/** Which centrality metric(s) is/are illustrated in the plot you made for the previous subtask? Select all that apply from the list below and **justify your answer.**\n",
    "    1. Betweenness centrality\n",
    "    2. **In-degree centrality**\n",
    "    3. **Out-degree centrality**\n",
    "    4. PageRank centrality\n",
    "\n",
    "4. **/True or false:/** Search engines such as Google have historically used PageRank centrality as a signal to determine the importance of pages on the Web. Is the following statement **true** or **false**? Justify. **\"In the faculty hiring network, PageRank centrality is positively correlated with university score, that is, universities with higher scores are more likely to also have higher PageRank centrality.\"**\n",
    "\n",
    "False"
   ]
  },
  {
   "cell_type": "markdown",
   "metadata": {},
   "source": [
    "### Task 2 — (15 points)\n",
    "\n",
    "Each hiring decision $(u,v)$ connects two different universities with different scores.\n",
    "\n",
    "1. Divide the universities into quintiles according to their scores ($Q_1$ to $Q_5$, where $Q_5$ contains the highest-ranked universities, i.e., those with the highest scores). Create a succinct plot that captures, for each pair of quintiles ($Q_i$, $Q_j$), what fraction of people in the dataset who got their Ph.D. from a university in $Q_i$ were hired by a university in $Q_j$.\n",
    "\n",
    "\n",
    "2. **/Multiple choice:/** What does the plot made in the previous subtask reveal about the faculty hiring process? Select one of the following options and justify your answer.\n",
    "    1. Ph.D. graduates who are hired as professors usually go to universities that are better than the universities where they were trained.\n",
    "    2. Ph.D. graduates who are hired as professors usually go to universities that are around the same or worse than the universities where they were trained.\n",
    "\n",
    "3. **/True or false:/** Let $E$ be the set of edges from the hiring network, and let $X$ be defined as follows:\n",
    "$$X = \\frac{|(u,v) \\in E : u \\in Q_1 \\text{ and } v \\in Q_5 |}{{|(u,v) \\in E : u \\in Q_1|}}$$\n",
    " *Thinking critically about the data that was given to you,* is the following statement **true** or **false**? Justify your answer. **\"If I get my Ph.D. in a 1st-quintile university, I have a chance of around X * 100%  of getting a job in a 5th-quintile university.\"**\n",
    "\n",
    "\n",
    "---\n",
    "**Hints:**\n",
    "- [pandas.qcut](https://pandas.pydata.org/docs/reference/api/pandas.qcut.html) makes splitting data into quantiles easy!\n"
   ]
  },
  {
   "cell_type": "code",
   "execution_count": 91,
   "metadata": {
    "pycharm": {
     "name": "#%%\n"
    }
   },
   "outputs": [
    {
     "data": {
      "image/png": "[encoded data removed]",
      "text/plain": [
       "<Figure size 432x288 with 2 Axes>"
      ]
     },
     "metadata": {
      "needs_background": "light"
     },
     "output_type": "display_data"
    }
   ],
   "source": [
    "# 2.1\n",
    "\n",
    "arr = np.zeros(shape=(5,5))\n",
    "diff = []\n",
    "scores_dict = nx.get_node_attributes(G, \"score\")\n",
    "for node in G.nodes:\n",
    "    if node not in scores_dict:\n",
    "        scores_dict[node] = 0\n",
    "\n",
    "#Compute quintiles\n",
    "quintiles = pd.qcut([v for _, v in sorted(scores_dict.items())], q=5, labels=False)\n",
    "keys = [k for k, _ in sorted(scores_dict.items())]\n",
    "quintiles_dict = {k: v for k, v in zip(keys, quintiles)}\n",
    "\n",
    "\n",
    "for u, v, k in G.edges:\n",
    "    arr[quintiles_dict[u], quintiles_dict[v]] += 1\n",
    "\n",
    "    diff.append(scores_dict[v] - scores_dict[u])\n",
    "\n",
    "\n",
    "arr = arr.T / arr.sum(axis=1)\n",
    "sns.heatmap(arr.T, annot=True)\n",
    "plt.ylabel(\"Q where person was trained\")\n",
    "plt.xlabel(\"Q where person was hired\")\n",
    "plt.title(\"Confusion matrix — rows sum to 1\")\n",
    "plt.show();\n",
    "\n",
    "# A heatmap is a good plot for this scenario because it allows to easily and succintly visualize all the \n",
    "# 25 quintile combinations. Different quintiles are positioned conveniently positioned in a easy-to-read\n",
    "# way. This would not be the case with other plots (e.g., a simple point-plot)"
   ]
  },
  {
   "cell_type": "markdown",
   "metadata": {},
   "source": [
    "### Task 3 — (25 points)\n",
    "\n",
    "Let the \"source university\" of a person be the university at which the person got their Ph.D., and let their \"target university\" be the university at which they were hired after their Ph.D.\n",
    "\n",
    "\n",
    "1. For each hiring decision $(u, v)$, let the score gain ($d$) be defined as the difference between the scores of the target university and the source university (target university score minus source university score; see hint for example). Calculate the average difference for men ($\\bar{d_{M}}$) and for women ($\\bar{d_{F}}$) in the dataset. Determine whether the difference between these two averages ($\\bar{d_{M}}$ and $\\bar{d_{F}}$) is statistically significant.\n",
    "\n",
    "2. **/True or false:/** Is the following statement **true** or **false**? Justify your answer. **\"The results you obtained in Task 3.1 do not refute the hypothesis that women are disadvantaged in the faculty hiring process.\"**\n",
    "\n",
    "3. For each quintile $Q$ from Task 2.1, calculate the following: **(a)** the percentage of women among hiring decisions $(u, v)$ with $u \\in Q$ ; and **b)** the average score gain for hiring decisions $(u, v)$ with $u \\in Q$.\n",
    "\n",
    "4. **/Discuss:/** Considering the results obtained in Task 3.3, why is comparing the average score gain for men ($\\bar{d_{M}}$) and women ($\\bar{d_{F}}$) insufficient for determining the causal effect of gender on score gain?\n",
    "\n",
    "5. Use `statsmodels` to run a linear regression where hiring decisions (edges of the hiring network) are the data points, gender and source-university score are the predictors, and score gain is the outcome. Report the summary of your model.\n",
    "\n",
    "6. **/True or false:/** Considering the following statement, answer **true** or **false** and justify your answer. **\"The results you obtained in Task 3.5 suggest that academic hiring decisions are unfair to women.\"**\n",
    "\n",
    "---\n",
    "**Hint** — The university with the best score is Stanford University (score 100), and the university with the 10th best score is the University of Washington (score 95.26). If someone was trained at Stanford and then got a job at the University of Washington, their score gain is $95.26 - 100 = -4.74$."
   ]
  },
  {
   "cell_type": "code",
   "execution_count": 94,
   "metadata": {
    "pycharm": {
     "name": "#%%\n"
    }
   },
   "outputs": [
    {
     "name": "stdout",
     "output_type": "stream",
     "text": [
      "-23.187397610572386 -25.165119456352482\n"
     ]
    },
    {
     "data": {
      "text/plain": [
       "Ttest_indResult(statistic=2.5545709433914703, pvalue=0.010665364303484142)"
      ]
     },
     "execution_count": 94,
     "metadata": {},
     "output_type": "execute_result"
    }
   ],
   "source": [
    "gender_dict = nx.get_edge_attributes(G, \"gender\")\n",
    "diff_m = []\n",
    "diff_w = []\n",
    "\n",
    "# Calculate score gains\n",
    "for u, v, k in G.edges:\n",
    "    arr[quintiles_dict[u], quintiles_dict[v]] += 1\n",
    "    if gender_dict[(u,v, k)] == \"M\":\n",
    "        diff_m.append(scores_dict[v] - scores_dict[u])\n",
    "    else:\n",
    "        diff_w.append(scores_dict[v] - scores_dict[u])\n",
    "\n",
    "# Print mean score gains for men and women\n",
    "print(np.mean(diff_m), np.mean(diff_w))\n",
    "\n",
    "# ttest\n",
    "stats.ttest_ind(diff_m, diff_w)"
   ]
  },
  {
   "cell_type": "code",
   "execution_count": 95,
   "metadata": {},
   "outputs": [
    {
     "name": "stdout",
     "output_type": "stream",
     "text": [
      "Q1: 10.96% of women\n",
      "Q2: 20.0% of women\n",
      "Q3: 29.92% of women\n",
      "Q4: 40.22% of women\n",
      "Q5: 51.12% of women\n",
      "---\n",
      "Q1: avg score diff 2.27\n",
      "Q2: avg score diff -1.77\n",
      "Q3: avg score diff -14.14\n",
      "Q4: avg score diff -23.18\n",
      "Q5: avg score diff -27.26\n"
     ]
    }
   ],
   "source": [
    "# 3.3\n",
    "\n",
    "arr = np.zeros(shape=(5,5))\n",
    "gender_dict = nx.get_edge_attributes(G, \"gender\")\n",
    "man_q = np.zeros(5)\n",
    "wmn_q = np.zeros(5)\n",
    "diff_q = np.zeros(5)\n",
    "diff_c = np.zeros(5)\n",
    "\n",
    "for u, v, k in G.edges:\n",
    "    q = quintiles_dict[u]\n",
    "    diff_q[q] += scores_dict[v] - scores_dict[u]\n",
    "    diff_c[q] += 1\n",
    "    if gender_dict[(u,v,k)] == \"M\":\n",
    "        man_q[quintiles_dict[u]] += 1\n",
    "    else:\n",
    "        wmn_q[quintiles_dict[u]] += 1\n",
    "    \n",
    "        \n",
    "_ = [print(\"Q{}: {}% of women\".format(idx + 1, round(q * 100, 2))) for idx, q in enumerate(wmn_q /(man_q + wmn_q))]\n",
    "\n",
    "print(\"---\")\n",
    "_ = [print(\"Q{}: avg score diff {}\".format(idx + 1, round(q, 2))) for idx, q in enumerate(diff_q / diff_c)]"
   ]
  },
  {
   "cell_type": "code",
   "execution_count": 97,
   "metadata": {},
   "outputs": [
    {
     "data": {
      "text/html": [
       "<table class=\"simpletable\">\n",
       "<caption>OLS Regression Results</caption>\n",
       "<tr>\n",
       "  <th>Dep. Variable:</th>            <td>d</td>        <th>  R-squared:         </th> <td>   0.049</td> \n",
       "</tr>\n",
       "<tr>\n",
       "  <th>Model:</th>                   <td>OLS</td>       <th>  Adj. R-squared:    </th> <td>   0.048</td> \n",
       "</tr>\n",
       "<tr>\n",
       "  <th>Method:</th>             <td>Least Squares</td>  <th>  F-statistic:       </th> <td>   112.6</td> \n",
       "</tr>\n",
       "<tr>\n",
       "  <th>Date:</th>             <td>Mon, 06 Jan 2025</td> <th>  Prob (F-statistic):</th> <td>1.97e-48</td> \n",
       "</tr>\n",
       "<tr>\n",
       "  <th>Time:</th>                 <td>17:42:18</td>     <th>  Log-Likelihood:    </th> <td> -20339.</td> \n",
       "</tr>\n",
       "<tr>\n",
       "  <th>No. Observations:</th>      <td>  4388</td>      <th>  AIC:               </th> <td>4.068e+04</td>\n",
       "</tr>\n",
       "<tr>\n",
       "  <th>Df Residuals:</th>          <td>  4385</td>      <th>  BIC:               </th> <td>4.070e+04</td>\n",
       "</tr>\n",
       "<tr>\n",
       "  <th>Df Model:</th>              <td>     2</td>      <th>                     </th>     <td> </td>    \n",
       "</tr>\n",
       "<tr>\n",
       "  <th>Covariance Type:</th>      <td>nonrobust</td>    <th>                     </th>     <td> </td>    \n",
       "</tr>\n",
       "</table>\n",
       "<table class=\"simpletable\">\n",
       "<tr>\n",
       "         <td></td>           <th>coef</th>     <th>std err</th>      <th>t</th>      <th>P>|t|</th>  <th>[0.025</th>    <th>0.975]</th>  \n",
       "</tr>\n",
       "<tr>\n",
       "  <th>Intercept</th>      <td>   -3.5182</td> <td>    1.426</td> <td>   -2.468</td> <td> 0.014</td> <td>   -6.313</td> <td>   -0.723</td>\n",
       "</tr>\n",
       "<tr>\n",
       "  <th>gender[T.True]</th> <td>    0.1164</td> <td>    0.769</td> <td>    0.151</td> <td> 0.880</td> <td>   -1.391</td> <td>    1.624</td>\n",
       "</tr>\n",
       "<tr>\n",
       "  <th>q</th>              <td>   -0.2614</td> <td>    0.018</td> <td>  -14.780</td> <td> 0.000</td> <td>   -0.296</td> <td>   -0.227</td>\n",
       "</tr>\n",
       "</table>\n",
       "<table class=\"simpletable\">\n",
       "<tr>\n",
       "  <th>Omnibus:</th>       <td>234.449</td> <th>  Durbin-Watson:     </th> <td>   0.320</td>\n",
       "</tr>\n",
       "<tr>\n",
       "  <th>Prob(Omnibus):</th> <td> 0.000</td>  <th>  Jarque-Bera (JB):  </th> <td> 189.101</td>\n",
       "</tr>\n",
       "<tr>\n",
       "  <th>Skew:</th>          <td>-0.426</td>  <th>  Prob(JB):          </th> <td>8.66e-42</td>\n",
       "</tr>\n",
       "<tr>\n",
       "  <th>Kurtosis:</th>      <td> 2.445</td>  <th>  Cond. No.          </th> <td>    310.</td>\n",
       "</tr>\n",
       "</table><br/><br/>Notes:<br/>[1] Standard Errors assume that the covariance matrix of the errors is correctly specified."
      ],
      "text/plain": [
       "<class 'statsmodels.iolib.summary.Summary'>\n",
       "\"\"\"\n",
       "                            OLS Regression Results                            \n",
       "==============================================================================\n",
       "Dep. Variable:                      d   R-squared:                       0.049\n",
       "Model:                            OLS   Adj. R-squared:                  0.048\n",
       "Method:                 Least Squares   F-statistic:                     112.6\n",
       "Date:                Mon, 06 Jan 2025   Prob (F-statistic):           1.97e-48\n",
       "Time:                        17:42:18   Log-Likelihood:                -20339.\n",
       "No. Observations:                4388   AIC:                         4.068e+04\n",
       "Df Residuals:                    4385   BIC:                         4.070e+04\n",
       "Df Model:                           2                                         \n",
       "Covariance Type:            nonrobust                                         \n",
       "==================================================================================\n",
       "                     coef    std err          t      P>|t|      [0.025      0.975]\n",
       "----------------------------------------------------------------------------------\n",
       "Intercept         -3.5182      1.426     -2.468      0.014      -6.313      -0.723\n",
       "gender[T.True]     0.1164      0.769      0.151      0.880      -1.391       1.624\n",
       "q                 -0.2614      0.018    -14.780      0.000      -0.296      -0.227\n",
       "==============================================================================\n",
       "Omnibus:                      234.449   Durbin-Watson:                   0.320\n",
       "Prob(Omnibus):                  0.000   Jarque-Bera (JB):              189.101\n",
       "Skew:                          -0.426   Prob(JB):                     8.66e-42\n",
       "Kurtosis:                       2.445   Cond. No.                         310.\n",
       "==============================================================================\n",
       "\n",
       "Notes:\n",
       "[1] Standard Errors assume that the covariance matrix of the errors is correctly specified.\n",
       "\"\"\""
      ]
     },
     "execution_count": 97,
     "metadata": {},
     "output_type": "execute_result"
    }
   ],
   "source": [
    "# 3.5\n",
    "\n",
    "# Build a dataframe\n",
    "\n",
    "gender_dict = nx.get_edge_attributes(G, \"gender\")\n",
    "df = []\n",
    "\n",
    "for u, v, k in G.edges:\n",
    "    df.append(\n",
    "    {   \n",
    "        \"gender\": gender_dict[(u,v,k)] == \"F\",\n",
    "        \"d\": scores_dict[v] - scores_dict[u],\n",
    "        \"q\": scores_dict[u],\n",
    "    }\n",
    "    )\n",
    "\n",
    "df = pd.DataFrame(df)\n",
    "\n",
    "import statsmodels.formula.api as smf\n",
    "df\n",
    "model = smf.ols(\"d ~ gender + q\", data=df.reset_index()).fit()\n",
    "model.summary()"
   ]
  },
  {
   "cell_type": "markdown",
   "metadata": {},
   "source": [
    "## Part 2 — Tennis interviews\n",
    "\n",
    "For the second part of the exam, you will work with text data extracted from questions asked during post-match tennis interviews and from\n",
    "TV commentary done during the tennis match.\n",
    "\n",
    "\n",
    "Examples of interview questions:\n",
    "\n",
    "> That last set seemed like a faultless performance. Is that the way you saw it?\n",
    "\n",
    "> How disappointing is that loss for you?\n",
    "\n",
    "> As a spectator, would you rather watch a guy with big aces or a match with lots of rallies?\n",
    "\n",
    "Example of commentary text:\n",
    "\n",
    ">  Serena is desperate to shake herself into action. She lets out an almighty shriek when she goes 30-15 up, but Azarenka responds with a brilliant forehand. The level of Williams' scream goes up and up during the next point, and she lets out another roar when she belts a forehand cross court win the point. She wraps the game up next time round, and she looked something like back to her best there!\n",
    "\n",
    "\n",
    "## Files (in the `data` folder)\n",
    "\n",
    "- `questions.tsv.gz` a tab-separated compressed file containing interview questions\n",
    "and some metadata. We refer to this dataset as the \"questions dataset.\"\n",
    "Each row contains a question made to a specific player after a match.\n",
    "The file has the following columns:\n",
    "    - `questions` — the text of the question asked; **Note that you will never be asked to use this row; it is merely meant to help you understand the data better**.\n",
    "    - `gender` — the gender of the player;\n",
    "    - `ranking` — the ranking of the player at the time;\n",
    "    - `similarity` — this column will be explained later in the exam.\n",
    "\n",
    "- `commentary.tsv.gz` a tab-separated compressed file containing TV commentary done during\n",
    "the tennis match. We refer to this dataset as the \"commentary dataset.\" Each line contains\n",
    "a piece of commentary done in a tennis match.\n",
    "The file has the following columns:\n",
    "    - `commentary` — the text of the commentary; **Note that you will never be asked to use this row; it is merely meant to help you understand the data better**.\n",
    "    - `gender` — the gender of the players in the match;\n",
    "\n",
    "- `TFIDF.npz`, a file containing 2D numpy arrays saved in the `.npz` format that\n",
    "will be used in Task 4.\n",
    "\n",
    "Both datasets are **balanced regarding gender,** i.e., they have the same number of rows about men as about women.\n",
    "\n",
    "\n",
    "Commentary text, as well as interview questions, have been preprocessed to make your life easier, as follows:\n",
    "\n",
    "- We replaced all words starting with upper-case letters with the special string `'--ENT--'`. This was done to remove personal names (e.g., Alice, Bob), which could help predict whether the text is associated with a male or a female tennis player.\n",
    "- We removed the first word in each sentence. This was done because, for the first word of each sentence, it is difficult to know whether it is a personal name or simply a regular word.\n",
    "- We replaced all gendered pronouns in the text (he/him/his and she/her/hers) with the special string `'--PRON--'`. This, too, was done because these words would make it easy to predict whether the text is associated with a male or a female tennis player.\n",
    "- We removed punctuation and stop words (to reduce the dimensionality of the data).\n",
    "\n",
    "The above example commentary text thus appears as follows in the data provided to you:\n",
    "\n",
    "> desperate shake action lets almighty shriek --PRON-- goes 30 15 --ENT-- responds brilliant forehand level --ENT-- scream goes point --PRON-- lets roar --PRON-- belts forehand cross court win point wraps game time round --PRON-- looked like --PRON-- best\n",
    "\n",
    "We also provide some code for loading and displaying the dataset:"
   ]
  },
  {
   "cell_type": "code",
   "execution_count": 98,
   "metadata": {
    "pycharm": {
     "name": "#%%\n"
    }
   },
   "outputs": [],
   "source": [
    "#  Part 2 ! PROVIDED CODE !\n",
    "\n",
    "questions = pd.read_csv(\"./data/part-2/questions.tsv.gz\", sep=\"\\t\", compression=\"infer\")\n",
    "commentary = pd.read_csv(\"./data/part-2/commentary.tsv.gz\", sep=\"\\t\", compression=\"infer\")\n"
   ]
  },
  {
   "cell_type": "code",
   "execution_count": 106,
   "metadata": {
    "pycharm": {
     "name": "#%%\n"
    }
   },
   "outputs": [
    {
     "data": {
      "text/html": [
       "<div>\n",
       "<style scoped>\n",
       "    .dataframe tbody tr th:only-of-type {\n",
       "        vertical-align: middle;\n",
       "    }\n",
       "\n",
       "    .dataframe tbody tr th {\n",
       "        vertical-align: top;\n",
       "    }\n",
       "\n",
       "    .dataframe thead th {\n",
       "        text-align: right;\n",
       "    }\n",
       "</style>\n",
       "<table border=\"1\" class=\"dataframe\">\n",
       "  <thead>\n",
       "    <tr style=\"text-align: right;\">\n",
       "      <th></th>\n",
       "      <th>questions</th>\n",
       "      <th>ranking</th>\n",
       "      <th>similarity</th>\n",
       "      <th>gender</th>\n",
       "    </tr>\n",
       "  </thead>\n",
       "  <tbody>\n",
       "    <tr>\n",
       "      <th>0</th>\n",
       "      <td>successful --ENT-- today year</td>\n",
       "      <td>366</td>\n",
       "      <td>0.431568</td>\n",
       "      <td>F</td>\n",
       "    </tr>\n",
       "    <tr>\n",
       "      <th>1</th>\n",
       "      <td>players player admire growing</td>\n",
       "      <td>352</td>\n",
       "      <td>0.247449</td>\n",
       "      <td>F</td>\n",
       "    </tr>\n",
       "    <tr>\n",
       "      <th>2</th>\n",
       "      <td>shot clock thing countdown</td>\n",
       "      <td>441</td>\n",
       "      <td>0.702559</td>\n",
       "      <td>F</td>\n",
       "    </tr>\n",
       "    <tr>\n",
       "      <th>3</th>\n",
       "      <td>birthplace --ENT-- place lot --ENT-- --ENT-- b...</td>\n",
       "      <td>760</td>\n",
       "      <td>0.270464</td>\n",
       "      <td>F</td>\n",
       "    </tr>\n",
       "    <tr>\n",
       "      <th>4</th>\n",
       "      <td>--ENT-- match today</td>\n",
       "      <td>99</td>\n",
       "      <td>0.322474</td>\n",
       "      <td>F</td>\n",
       "    </tr>\n",
       "  </tbody>\n",
       "</table>\n",
       "</div>"
      ],
      "text/plain": [
       "                                           questions  ranking  similarity  \\\n",
       "0                      successful --ENT-- today year      366    0.431568   \n",
       "1                      players player admire growing      352    0.247449   \n",
       "2                         shot clock thing countdown      441    0.702559   \n",
       "3  birthplace --ENT-- place lot --ENT-- --ENT-- b...      760    0.270464   \n",
       "4                                --ENT-- match today       99    0.322474   \n",
       "\n",
       "  gender  \n",
       "0      F  \n",
       "1      F  \n",
       "2      F  \n",
       "3      F  \n",
       "4      F  "
      ]
     },
     "execution_count": 106,
     "metadata": {},
     "output_type": "execute_result"
    }
   ],
   "source": [
    "questions.head()"
   ]
  },
  {
   "cell_type": "markdown",
   "metadata": {},
   "source": [
    "### Task 4  (20 points)\n",
    "\n",
    "Your goal now is to investigate whether there is gender bias in the questions being asked to female vs. male players, i.e., whether men vs. women are asked different questions on average. You start your analysis with a classification framing.\n",
    "\n",
    "\n",
    "To make your life easier, we already provided a TF-IDF matrix for each dataset (`commentary.tsv.gz` and `questions.tsv.gz`) and with code to load these matrices (which are numpy arrays).\n",
    "\n",
    "- Each row in each matrix $M$ corresponds to a row in the corresponding dataframe, i.e., each row corresponds to a different question or a different piece of TV commentary.\n",
    "- Each column in each matrix corresponds to a different word from the vocabulary.\n",
    "- Each position $(i,j)$ in the matrix contains the TF-IDF score for word $j$ from the vocabulary in question or commentary $i$. That is, each term $M[i,j]$ corresponds to the term frequency (TF) of word $j$ in text $i$, multiplied by the inverse document frequency (IDF) of word $j$:\n",
    "\n",
    "\n",
    "$$M[i,j] = \\text{TF}(i,j) * \\text{IDF}(j)$$\n",
    "\n",
    "\n",
    "1. **/Multiple Choice:/** Which of the following is the correct way to calculate the term frequency and the inverse document frequency? Justify your answer, explaining what each of the two components should capture.\n",
    "    - Option A:\n",
    "\n",
    "    $$\\text{TF}(i,j) = \\text{number of times the $j$-th word occurs in all documents} $$\n",
    "\n",
    "    $$\\text{IDF}(j) =  \\log \\frac{\\text{number of documents the $j$-th word occurs in}}{\\text{number of documents}}$$\n",
    "\n",
    "    - Option B:\n",
    "\n",
    "    $$ \\text{TF}(i,j) = \\text{number of times the $j$-th word occurs in the $i$-th document} $$\n",
    "\n",
    "    $$\\text{IDF}(j) =  \\log \\frac{\\text{number of documents the $j$-th word occurs in}}{\\text{number of documents}}$$\n",
    "\n",
    "    - Option C:\n",
    "\n",
    "    $$ \\text{TF}(i,j) = \\text{number of times the $j$-th word occurs in all documents} $$\n",
    "\n",
    "    $$\\text{IDF}(j) =  \\log \\frac{\\text{number of documents}}{\\text{number of documents the $j$-th word occurs in}}$$\n",
    "\n",
    "    - Option D:\n",
    "\n",
    "    $$ \\text{TF}(i,j) = \\text{number of times the $j$-th word occurs in the $i$-th document} $$\n",
    "\n",
    "    $$\\text{IDF}(j) =  \\log \\frac{\\text{number of documents}}{\\text{number of documents the $j$-th word occurs in}}$$\n",
    "\n",
    "\n",
    "\n",
    "2. Leveraging the matrices described above, train two logistic regression classifiers (one for interview questions, the other for TV commentary) that use the TF-IDF vectors as features to predict the gender of the athletes. You should split each dataset into training and test sets using sklearn (see [sklearn.model_selection.train_test_split](https://scikit-learn.org/stable/modules/generated/sklearn.model_selection.train_test_split.html)) using parameters `test_size=0.4` and `random_state=42`. You should use sklearn's logistic regression model (see [here](https://scikit-learn.org/stable/modules/generated/sklearn.linear_model.LogisticRegression.html#sklearn.linear_model.LogisticRegression)) using parameters `C=10` (which controls regularization) and `max_iter=2000`. For each dataset, train the model on the training set (with 60% of the data) and report the accuracy on the test set (with 40% of the data).\n",
    "\n",
    "3. **/True or false:/** Considering the following statement, answer **true** or **false** and justify your answer. **\"Based on the outcome of Task 4.2, the text from tennis commentary text is more gender-biased than post-match questions.\"**\n",
    "\n",
    "4. The parameter `C` above controls a regularization penalty. The lower `C`, the stronger the regularization penalty (caveat: sklearn’s convention is the reverse of the convention you saw in class, where a *higher* $\\lambda$ parameter meant a stronger regularization penalty ). For the questions dataset, re-run the classification task using the same setup as in Task 4.2, but now with `C=2000`. Report the accuracy.\n",
    "\n",
    "5. **/Discuss:/** Explain why increasing `C` changed the results.\n"
   ]
  },
  {
   "cell_type": "code",
   "execution_count": 102,
   "metadata": {
    "pycharm": {
     "name": "#%%\n"
    }
   },
   "outputs": [
    {
     "data": {
      "text/plain": [
       "array([[0.60373585, 0.        , 0.        , ..., 0.        , 0.        ,\n",
       "        0.        ],\n",
       "       [0.        , 0.        , 0.        , ..., 0.        , 0.        ,\n",
       "        0.        ],\n",
       "       [0.        , 0.        , 0.        , ..., 0.        , 0.        ,\n",
       "        0.19567434],\n",
       "       ...,\n",
       "       [0.        , 0.        , 0.        , ..., 0.        , 0.        ,\n",
       "        0.        ],\n",
       "       [0.        , 0.        , 0.13978562, ..., 0.        , 0.        ,\n",
       "        0.        ],\n",
       "       [0.59027928, 0.        , 0.        , ..., 0.        , 0.        ,\n",
       "        0.        ]])"
      ]
     },
     "execution_count": 102,
     "metadata": {},
     "output_type": "execute_result"
    }
   ],
   "source": [
    "# 4.2 ! PROVIDED CODE !\n",
    "tmp = np.load(\"./data/part-2/TFIDF.npz\")\n",
    "TFIDF_commentary = tmp['commentary']\n",
    "TFIDF_questions = tmp['questions']\n",
    "\n",
    "TFIDF_questions"
   ]
  },
  {
   "cell_type": "code",
   "execution_count": 109,
   "metadata": {
    "pycharm": {
     "name": "#%%\n"
    }
   },
   "outputs": [
    {
     "name": "stdout",
     "output_type": "stream",
     "text": [
      "questions dataset : accuracy 0.7108333333333333\n",
      "commentary dataset : accuracy 0.5133333333333333\n"
     ]
    }
   ],
   "source": [
    "model = lm.LogisticRegression(C=10, max_iter=2000)\n",
    "\n",
    "for df, TFIDF, s in zip([questions, commentary], \n",
    "                       [TFIDF_questions, TFIDF_commentary],\n",
    "                       [\"questions dataset\", \"commentary dataset\"]):\n",
    "    is_woman_questions = (df[\"gender\"] == \"F\").astype(\"int\").values\n",
    "\n",
    "    X_train, X_test, y_train, y_test = train_test_split(TFIDF, \n",
    "                                                        is_woman_questions,\n",
    "                                                        test_size=0.4, random_state=42)\n",
    "\n",
    "\n",
    "\n",
    "    model.fit(X_train, y_train)\n",
    "\n",
    "    y_pred = model.predict(X_test)\n",
    "\n",
    "    print(s, \":\", \"accuracy\", accuracy_score(y_test, y_pred))"
   ]
  },
  {
   "cell_type": "code",
   "execution_count": 110,
   "metadata": {},
   "outputs": [
    {
     "name": "stdout",
     "output_type": "stream",
     "text": [
      "questions dataset : accuracy 0.6891666666666667\n",
      "commentary dataset : accuracy 0.5591666666666667\n"
     ]
    }
   ],
   "source": [
    "model = lm.LogisticRegression(C=2000, max_iter=2000)\n",
    "\n",
    "for df, TFIDF, s in zip([questions, commentary], \n",
    "                       [TFIDF_questions, TFIDF_commentary],\n",
    "                       [\"questions dataset\", \"commentary dataset\"]):\n",
    "    is_woman_questions = (df[\"gender\"] == \"F\").astype(\"int\").values\n",
    "\n",
    "    X_train, X_test, y_train, y_test = train_test_split(TFIDF, \n",
    "                                                        is_woman_questions,\n",
    "                                                        test_size=0.4, random_state=42)\n",
    "\n",
    "\n",
    "\n",
    "    model.fit(X_train, y_train)\n",
    "\n",
    "    y_pred = model.predict(X_test)\n",
    "\n",
    "    print(s, \":\", \"accuracy\", accuracy_score(y_test, y_pred))"
   ]
  },
  {
   "cell_type": "markdown",
   "metadata": {},
   "source": [
    "### Task 5 — (20 pts)\n",
    "\n",
    "You will now further inspect whether there is gender bias in the interview questions using an observational study framing. For this task, you will use the column `similarity` provided in the questions dataframe. This column captures how similar each question is to tennis-related text, i.e., a higher score indicates that the question is more about the topic of tennis. In contrast, a lower score means that the question may be personal or about other subjects.\n",
    "\n",
    "1. Using `statsmodels`, run a linear regression with `similarity` as the outcome and `gender` as the predictor. Report the summary of your model.\n",
    "\n",
    "2. **/True or false:/** According to the previous analysis, determine if the following statement is **true** or **false** and justify your answer. **\"Men are asked questions unrelated to tennis more often than women.\"**\n",
    "\n",
    "3. The ranking of players is a potential confounder here. We do not know whether the male and female players in the dataset have similar rankings. In that context, compute the average ranking for men and women. Determine if the difference is statistically significant. Additionally, create a scatter plot showing the relationship between ranking (on the y-axis) and similarity (in the x-axis) and compute Spearman's rank-correlation coefficient between `ranking` and `similarity`.\n",
    "\n",
    "4. **/True or false:/** Assume that no variable other than `gender` and `ranking` can have any influence on the `similarity` of each question. Based on the analysis of the previous question, is the following statement **true** or **false**? Justify your answer. **\"Ranking is not a worrisome confounder for the regression of Task 5.1.\"**"
   ]
  },
  {
   "cell_type": "code",
   "execution_count": 111,
   "metadata": {
    "pycharm": {
     "name": "#%%\n"
    }
   },
   "outputs": [
    {
     "data": {
      "text/html": [
       "<table class=\"simpletable\">\n",
       "<caption>OLS Regression Results</caption>\n",
       "<tr>\n",
       "  <th>Dep. Variable:</th>       <td>similarity</td>    <th>  R-squared:         </th> <td>   0.219</td> \n",
       "</tr>\n",
       "<tr>\n",
       "  <th>Model:</th>                   <td>OLS</td>       <th>  Adj. R-squared:    </th> <td>   0.219</td> \n",
       "</tr>\n",
       "<tr>\n",
       "  <th>Method:</th>             <td>Least Squares</td>  <th>  F-statistic:       </th> <td>   841.1</td> \n",
       "</tr>\n",
       "<tr>\n",
       "  <th>Date:</th>             <td>Mon, 06 Jan 2025</td> <th>  Prob (F-statistic):</th> <td>3.16e-163</td>\n",
       "</tr>\n",
       "<tr>\n",
       "  <th>Time:</th>                 <td>20:34:30</td>     <th>  Log-Likelihood:    </th> <td>  77.527</td> \n",
       "</tr>\n",
       "<tr>\n",
       "  <th>No. Observations:</th>      <td>  3000</td>      <th>  AIC:               </th> <td>  -151.1</td> \n",
       "</tr>\n",
       "<tr>\n",
       "  <th>Df Residuals:</th>          <td>  2998</td>      <th>  BIC:               </th> <td>  -139.0</td> \n",
       "</tr>\n",
       "<tr>\n",
       "  <th>Df Model:</th>              <td>     1</td>      <th>                     </th>     <td> </td>    \n",
       "</tr>\n",
       "<tr>\n",
       "  <th>Covariance Type:</th>      <td>nonrobust</td>    <th>                     </th>     <td> </td>    \n",
       "</tr>\n",
       "</table>\n",
       "<table class=\"simpletable\">\n",
       "<tr>\n",
       "       <td></td>          <th>coef</th>     <th>std err</th>      <th>t</th>      <th>P>|t|</th>  <th>[0.025</th>    <th>0.975]</th>  \n",
       "</tr>\n",
       "<tr>\n",
       "  <th>Intercept</th>   <td>    0.3750</td> <td>    0.006</td> <td>   60.804</td> <td> 0.000</td> <td>    0.363</td> <td>    0.387</td>\n",
       "</tr>\n",
       "<tr>\n",
       "  <th>gender[T.M]</th> <td>    0.2499</td> <td>    0.009</td> <td>   29.002</td> <td> 0.000</td> <td>    0.233</td> <td>    0.267</td>\n",
       "</tr>\n",
       "</table>\n",
       "<table class=\"simpletable\">\n",
       "<tr>\n",
       "  <th>Omnibus:</th>       <td>134.873</td> <th>  Durbin-Watson:     </th> <td>   1.920</td>\n",
       "</tr>\n",
       "<tr>\n",
       "  <th>Prob(Omnibus):</th> <td> 0.000</td>  <th>  Jarque-Bera (JB):  </th> <td>  59.331</td>\n",
       "</tr>\n",
       "<tr>\n",
       "  <th>Skew:</th>          <td>-0.095</td>  <th>  Prob(JB):          </th> <td>1.31e-13</td>\n",
       "</tr>\n",
       "<tr>\n",
       "  <th>Kurtosis:</th>      <td> 2.338</td>  <th>  Cond. No.          </th> <td>    2.65</td>\n",
       "</tr>\n",
       "</table><br/><br/>Notes:<br/>[1] Standard Errors assume that the covariance matrix of the errors is correctly specified."
      ],
      "text/plain": [
       "<class 'statsmodels.iolib.summary.Summary'>\n",
       "\"\"\"\n",
       "                            OLS Regression Results                            \n",
       "==============================================================================\n",
       "Dep. Variable:             similarity   R-squared:                       0.219\n",
       "Model:                            OLS   Adj. R-squared:                  0.219\n",
       "Method:                 Least Squares   F-statistic:                     841.1\n",
       "Date:                Mon, 06 Jan 2025   Prob (F-statistic):          3.16e-163\n",
       "Time:                        20:34:30   Log-Likelihood:                 77.527\n",
       "No. Observations:                3000   AIC:                            -151.1\n",
       "Df Residuals:                    2998   BIC:                            -139.0\n",
       "Df Model:                           1                                         \n",
       "Covariance Type:            nonrobust                                         \n",
       "===============================================================================\n",
       "                  coef    std err          t      P>|t|      [0.025      0.975]\n",
       "-------------------------------------------------------------------------------\n",
       "Intercept       0.3750      0.006     60.804      0.000       0.363       0.387\n",
       "gender[T.M]     0.2499      0.009     29.002      0.000       0.233       0.267\n",
       "==============================================================================\n",
       "Omnibus:                      134.873   Durbin-Watson:                   1.920\n",
       "Prob(Omnibus):                  0.000   Jarque-Bera (JB):               59.331\n",
       "Skew:                          -0.095   Prob(JB):                     1.31e-13\n",
       "Kurtosis:                       2.338   Cond. No.                         2.65\n",
       "==============================================================================\n",
       "\n",
       "Notes:\n",
       "[1] Standard Errors assume that the covariance matrix of the errors is correctly specified.\n",
       "\"\"\""
      ]
     },
     "execution_count": 111,
     "metadata": {},
     "output_type": "execute_result"
    }
   ],
   "source": [
    "# 5.1\n",
    "\n",
    "smf.ols(\"similarity ~ gender\", data=questions).fit().summary()"
   ]
  },
  {
   "cell_type": "code",
   "execution_count": 125,
   "metadata": {},
   "outputs": [
    {
     "data": {
      "text/html": [
       "<div>\n",
       "<style scoped>\n",
       "    .dataframe tbody tr th:only-of-type {\n",
       "        vertical-align: middle;\n",
       "    }\n",
       "\n",
       "    .dataframe tbody tr th {\n",
       "        vertical-align: top;\n",
       "    }\n",
       "\n",
       "    .dataframe thead tr th {\n",
       "        text-align: left;\n",
       "    }\n",
       "\n",
       "    .dataframe thead tr:last-of-type th {\n",
       "        text-align: right;\n",
       "    }\n",
       "</style>\n",
       "<table border=\"1\" class=\"dataframe\">\n",
       "  <thead>\n",
       "    <tr>\n",
       "      <th></th>\n",
       "      <th colspan=\"2\" halign=\"left\">ranking</th>\n",
       "    </tr>\n",
       "    <tr>\n",
       "      <th></th>\n",
       "      <th>mean</th>\n",
       "      <th>sem</th>\n",
       "    </tr>\n",
       "    <tr>\n",
       "      <th>gender</th>\n",
       "      <th></th>\n",
       "      <th></th>\n",
       "    </tr>\n",
       "  </thead>\n",
       "  <tbody>\n",
       "    <tr>\n",
       "      <th>F</th>\n",
       "      <td>503.617908</td>\n",
       "      <td>7.564823</td>\n",
       "    </tr>\n",
       "    <tr>\n",
       "      <th>M</th>\n",
       "      <td>495.202342</td>\n",
       "      <td>7.386279</td>\n",
       "    </tr>\n",
       "  </tbody>\n",
       "</table>\n",
       "</div>"
      ],
      "text/plain": [
       "           ranking          \n",
       "              mean       sem\n",
       "gender                      \n",
       "F       503.617908  7.564823\n",
       "M       495.202342  7.386279"
      ]
     },
     "metadata": {},
     "output_type": "display_data"
    },
    {
     "data": {
      "text/plain": [
       "SignificanceResult(statistic=-0.00793480965681015, pvalue=0.663973935968952)"
      ]
     },
     "execution_count": 125,
     "metadata": {},
     "output_type": "execute_result"
    },
    {
     "data": {
      "image/png": "[encoded data removed]",
      "text/plain": [
       "<Figure size 432x288 with 1 Axes>"
      ]
     },
     "metadata": {
      "needs_background": "light"
     },
     "output_type": "display_data"
    }
   ],
   "source": [
    "display(questions.groupby(\"gender\").agg({\"ranking\": [\"mean\", \"sem\"]}))\n",
    "plt.scatter(questions[questions.gender == 'F'].similarity, questions[questions.gender == 'F'].ranking, alpha=0.4)\n",
    "plt.xlabel('Similarity')\n",
    "plt.ylabel('Rank')\n",
    "\n",
    "stats.spearmanr(questions.similarity,questions.ranking)\n"
   ]
  },
  {
   "cell_type": "code",
   "execution_count": null,
   "metadata": {},
   "outputs": [],
   "source": []
  }
 ],
 "metadata": {
  "kernelspec": {
   "display_name": "adaexam2021",
   "language": "python",
   "name": "python3"
  },
  "language_info": {
   "codemirror_mode": {
    "name": "ipython",
    "version": 3
   },
   "file_extension": ".py",
   "mimetype": "text/x-python",
   "name": "python",
   "nbconvert_exporter": "python",
   "pygments_lexer": "ipython3",
   "version": "3.8.12"
  }
 },
 "nbformat": 4,
 "nbformat_minor": 1
}
